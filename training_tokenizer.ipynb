{
 "cells": [
  {
   "cell_type": "code",
   "execution_count": 7,
   "metadata": {},
   "outputs": [],
   "source": [
    "import os\n",
    "from tradeformer import MarketTokenizer"
   ]
  },
  {
   "cell_type": "code",
   "execution_count": 8,
   "metadata": {},
   "outputs": [
    {
     "name": "stderr",
     "output_type": "stream",
     "text": [
      "100%|██████████| 853/853 [00:29<00:00, 29.26it/s]\n"
     ]
    }
   ],
   "source": [
    "\n",
    "\n",
    "t = MarketTokenizer()\n",
    "\n",
    "vocab_size = 1000\n",
    "token_data_path = './Data/preprocessed_data/token.txt'\n",
    "save_path = './trained_tokenizer'\n",
    "\n",
    "\n",
    "t.train(vocab_size=vocab_size, token_data_path=token_data_path, save_path=save_path)"
   ]
  },
  {
   "cell_type": "code",
   "execution_count": 3,
   "metadata": {},
   "outputs": [],
   "source": [
    "t2 = MarketTokenizer(load_path=save_path)"
   ]
  },
  {
   "cell_type": "code",
   "execution_count": 4,
   "metadata": {},
   "outputs": [
    {
     "data": {
      "text/plain": [
       "'BHN BGO AEN AIO AGN BHM BHM AGO AEM BFO'"
      ]
     },
     "execution_count": 4,
     "metadata": {},
     "output_type": "execute_result"
    }
   ],
   "source": [
    "test_data_path = './Data/preprocessed_data/test.txt'\n",
    "\n",
    "with open(test_data_path, 'r') as f:\n",
    "    doc = ''.join(f.readlines()).split()\n",
    "\n",
    "test_inp = ' '.join(doc[:10])\n",
    "test_inp"
   ]
  },
  {
   "cell_type": "code",
   "execution_count": 6,
   "metadata": {},
   "outputs": [
    {
     "data": {
      "text/plain": [
       "'BHN BGO AEN AIO AGN BHM BHM AGO AEM BFO'"
      ]
     },
     "execution_count": 6,
     "metadata": {},
     "output_type": "execute_result"
    }
   ],
   "source": [
    "t2.decode(t2.encode(test_inp))"
   ]
  },
  {
   "cell_type": "code",
   "execution_count": null,
   "metadata": {},
   "outputs": [],
   "source": []
  }
 ],
 "metadata": {
  "kernelspec": {
   "display_name": "base",
   "language": "python",
   "name": "python3"
  },
  "language_info": {
   "codemirror_mode": {
    "name": "ipython",
    "version": 3
   },
   "file_extension": ".py",
   "mimetype": "text/x-python",
   "name": "python",
   "nbconvert_exporter": "python",
   "pygments_lexer": "ipython3",
   "version": "3.12.2"
  }
 },
 "nbformat": 4,
 "nbformat_minor": 2
}
